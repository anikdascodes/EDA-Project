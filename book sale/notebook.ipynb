{
 "cells": [
  {
   "cell_type": "code",
   "execution_count": 2,
   "metadata": {},
   "outputs": [],
   "source": [
    "import pandas as pd\n",
    "import matplotlib.pyplot as plt\n",
    "import seaborn as sns"
   ]
  },
  {
   "cell_type": "code",
   "execution_count": 3,
   "metadata": {},
   "outputs": [],
   "source": [
    "df = pd.read_csv(\"Books_Data_Clean.csv\")"
   ]
  },
  {
   "cell_type": "code",
   "execution_count": 4,
   "metadata": {},
   "outputs": [
    {
     "data": {
      "text/html": [
       "<div>\n",
       "<style scoped>\n",
       "    .dataframe tbody tr th:only-of-type {\n",
       "        vertical-align: middle;\n",
       "    }\n",
       "\n",
       "    .dataframe tbody tr th {\n",
       "        vertical-align: top;\n",
       "    }\n",
       "\n",
       "    .dataframe thead th {\n",
       "        text-align: right;\n",
       "    }\n",
       "</style>\n",
       "<table border=\"1\" class=\"dataframe\">\n",
       "  <thead>\n",
       "    <tr style=\"text-align: right;\">\n",
       "      <th></th>\n",
       "      <th>index</th>\n",
       "      <th>Publishing Year</th>\n",
       "      <th>Book Name</th>\n",
       "      <th>Author</th>\n",
       "      <th>language_code</th>\n",
       "      <th>Author_Rating</th>\n",
       "      <th>Book_average_rating</th>\n",
       "      <th>Book_ratings_count</th>\n",
       "      <th>genre</th>\n",
       "      <th>gross sales</th>\n",
       "      <th>publisher revenue</th>\n",
       "      <th>sale price</th>\n",
       "      <th>sales rank</th>\n",
       "      <th>Publisher</th>\n",
       "      <th>units sold</th>\n",
       "    </tr>\n",
       "  </thead>\n",
       "  <tbody>\n",
       "    <tr>\n",
       "      <th>0</th>\n",
       "      <td>0</td>\n",
       "      <td>1975.0</td>\n",
       "      <td>Beowulf</td>\n",
       "      <td>Unknown, Seamus Heaney</td>\n",
       "      <td>en-US</td>\n",
       "      <td>Novice</td>\n",
       "      <td>3.42</td>\n",
       "      <td>155903</td>\n",
       "      <td>genre fiction</td>\n",
       "      <td>34160.0</td>\n",
       "      <td>20496.0</td>\n",
       "      <td>4.88</td>\n",
       "      <td>1</td>\n",
       "      <td>HarperCollins Publishers</td>\n",
       "      <td>7000</td>\n",
       "    </tr>\n",
       "    <tr>\n",
       "      <th>1</th>\n",
       "      <td>1</td>\n",
       "      <td>1987.0</td>\n",
       "      <td>Batman: Year One</td>\n",
       "      <td>Frank Miller, David Mazzucchelli, Richmond Lew...</td>\n",
       "      <td>eng</td>\n",
       "      <td>Intermediate</td>\n",
       "      <td>4.23</td>\n",
       "      <td>145267</td>\n",
       "      <td>genre fiction</td>\n",
       "      <td>12437.5</td>\n",
       "      <td>7462.5</td>\n",
       "      <td>1.99</td>\n",
       "      <td>2</td>\n",
       "      <td>HarperCollins Publishers</td>\n",
       "      <td>6250</td>\n",
       "    </tr>\n",
       "    <tr>\n",
       "      <th>2</th>\n",
       "      <td>2</td>\n",
       "      <td>2015.0</td>\n",
       "      <td>Go Set a Watchman</td>\n",
       "      <td>Harper Lee</td>\n",
       "      <td>eng</td>\n",
       "      <td>Novice</td>\n",
       "      <td>3.31</td>\n",
       "      <td>138669</td>\n",
       "      <td>genre fiction</td>\n",
       "      <td>47795.0</td>\n",
       "      <td>28677.0</td>\n",
       "      <td>8.69</td>\n",
       "      <td>3</td>\n",
       "      <td>Amazon Digital Services,  Inc.</td>\n",
       "      <td>5500</td>\n",
       "    </tr>\n",
       "    <tr>\n",
       "      <th>3</th>\n",
       "      <td>3</td>\n",
       "      <td>2008.0</td>\n",
       "      <td>When You Are Engulfed in Flames</td>\n",
       "      <td>David Sedaris</td>\n",
       "      <td>en-US</td>\n",
       "      <td>Intermediate</td>\n",
       "      <td>4.04</td>\n",
       "      <td>150898</td>\n",
       "      <td>fiction</td>\n",
       "      <td>41250.0</td>\n",
       "      <td>24750.0</td>\n",
       "      <td>7.50</td>\n",
       "      <td>3</td>\n",
       "      <td>Hachette Book Group</td>\n",
       "      <td>5500</td>\n",
       "    </tr>\n",
       "    <tr>\n",
       "      <th>4</th>\n",
       "      <td>4</td>\n",
       "      <td>2011.0</td>\n",
       "      <td>Daughter of Smoke &amp; Bone</td>\n",
       "      <td>Laini Taylor</td>\n",
       "      <td>eng</td>\n",
       "      <td>Intermediate</td>\n",
       "      <td>4.04</td>\n",
       "      <td>198283</td>\n",
       "      <td>genre fiction</td>\n",
       "      <td>37952.5</td>\n",
       "      <td>22771.5</td>\n",
       "      <td>7.99</td>\n",
       "      <td>4</td>\n",
       "      <td>Penguin Group (USA) LLC</td>\n",
       "      <td>4750</td>\n",
       "    </tr>\n",
       "  </tbody>\n",
       "</table>\n",
       "</div>"
      ],
      "text/plain": [
       "   index  Publishing Year                        Book Name  \\\n",
       "0      0           1975.0                          Beowulf   \n",
       "1      1           1987.0                 Batman: Year One   \n",
       "2      2           2015.0                Go Set a Watchman   \n",
       "3      3           2008.0  When You Are Engulfed in Flames   \n",
       "4      4           2011.0         Daughter of Smoke & Bone   \n",
       "\n",
       "                                              Author language_code  \\\n",
       "0                             Unknown, Seamus Heaney         en-US   \n",
       "1  Frank Miller, David Mazzucchelli, Richmond Lew...           eng   \n",
       "2                                         Harper Lee           eng   \n",
       "3                                      David Sedaris         en-US   \n",
       "4                                       Laini Taylor           eng   \n",
       "\n",
       "  Author_Rating  Book_average_rating  Book_ratings_count          genre  \\\n",
       "0        Novice                 3.42              155903  genre fiction   \n",
       "1  Intermediate                 4.23              145267  genre fiction   \n",
       "2        Novice                 3.31              138669  genre fiction   \n",
       "3  Intermediate                 4.04              150898        fiction   \n",
       "4  Intermediate                 4.04              198283  genre fiction   \n",
       "\n",
       "   gross sales  publisher revenue  sale price  sales rank  \\\n",
       "0      34160.0            20496.0        4.88           1   \n",
       "1      12437.5             7462.5        1.99           2   \n",
       "2      47795.0            28677.0        8.69           3   \n",
       "3      41250.0            24750.0        7.50           3   \n",
       "4      37952.5            22771.5        7.99           4   \n",
       "\n",
       "                       Publisher   units sold  \n",
       "0        HarperCollins Publishers        7000  \n",
       "1        HarperCollins Publishers        6250  \n",
       "2  Amazon Digital Services,  Inc.        5500  \n",
       "3             Hachette Book Group        5500  \n",
       "4         Penguin Group (USA) LLC        4750  "
      ]
     },
     "execution_count": 4,
     "metadata": {},
     "output_type": "execute_result"
    }
   ],
   "source": [
    "df.head()"
   ]
  },
  {
   "cell_type": "code",
   "execution_count": 5,
   "metadata": {},
   "outputs": [
    {
     "data": {
      "text/html": [
       "<div>\n",
       "<style scoped>\n",
       "    .dataframe tbody tr th:only-of-type {\n",
       "        vertical-align: middle;\n",
       "    }\n",
       "\n",
       "    .dataframe tbody tr th {\n",
       "        vertical-align: top;\n",
       "    }\n",
       "\n",
       "    .dataframe thead th {\n",
       "        text-align: right;\n",
       "    }\n",
       "</style>\n",
       "<table border=\"1\" class=\"dataframe\">\n",
       "  <thead>\n",
       "    <tr style=\"text-align: right;\">\n",
       "      <th></th>\n",
       "      <th>index</th>\n",
       "      <th>Publishing Year</th>\n",
       "      <th>Book_average_rating</th>\n",
       "      <th>Book_ratings_count</th>\n",
       "      <th>gross sales</th>\n",
       "      <th>publisher revenue</th>\n",
       "      <th>sale price</th>\n",
       "      <th>sales rank</th>\n",
       "      <th>units sold</th>\n",
       "    </tr>\n",
       "  </thead>\n",
       "  <tbody>\n",
       "    <tr>\n",
       "      <th>count</th>\n",
       "      <td>1070.000000</td>\n",
       "      <td>1069.000000</td>\n",
       "      <td>1070.000000</td>\n",
       "      <td>1070.000000</td>\n",
       "      <td>1070.000000</td>\n",
       "      <td>1070.000000</td>\n",
       "      <td>1070.000000</td>\n",
       "      <td>1070.000000</td>\n",
       "      <td>1070.000000</td>\n",
       "    </tr>\n",
       "    <tr>\n",
       "      <th>mean</th>\n",
       "      <td>534.500000</td>\n",
       "      <td>1971.377923</td>\n",
       "      <td>4.007000</td>\n",
       "      <td>94909.913084</td>\n",
       "      <td>1856.622944</td>\n",
       "      <td>843.281030</td>\n",
       "      <td>4.869561</td>\n",
       "      <td>611.652336</td>\n",
       "      <td>9676.980374</td>\n",
       "    </tr>\n",
       "    <tr>\n",
       "      <th>std</th>\n",
       "      <td>309.026698</td>\n",
       "      <td>185.080257</td>\n",
       "      <td>0.247244</td>\n",
       "      <td>31513.242518</td>\n",
       "      <td>3936.924240</td>\n",
       "      <td>2257.596743</td>\n",
       "      <td>3.559919</td>\n",
       "      <td>369.849830</td>\n",
       "      <td>15370.571306</td>\n",
       "    </tr>\n",
       "    <tr>\n",
       "      <th>min</th>\n",
       "      <td>0.000000</td>\n",
       "      <td>-560.000000</td>\n",
       "      <td>2.970000</td>\n",
       "      <td>27308.000000</td>\n",
       "      <td>104.940000</td>\n",
       "      <td>0.000000</td>\n",
       "      <td>0.990000</td>\n",
       "      <td>1.000000</td>\n",
       "      <td>106.000000</td>\n",
       "    </tr>\n",
       "    <tr>\n",
       "      <th>25%</th>\n",
       "      <td>267.250000</td>\n",
       "      <td>1985.000000</td>\n",
       "      <td>3.850000</td>\n",
       "      <td>70398.000000</td>\n",
       "      <td>372.465000</td>\n",
       "      <td>0.000000</td>\n",
       "      <td>1.990000</td>\n",
       "      <td>287.500000</td>\n",
       "      <td>551.250000</td>\n",
       "    </tr>\n",
       "    <tr>\n",
       "      <th>50%</th>\n",
       "      <td>534.500000</td>\n",
       "      <td>2003.000000</td>\n",
       "      <td>4.015000</td>\n",
       "      <td>89309.000000</td>\n",
       "      <td>809.745000</td>\n",
       "      <td>273.078000</td>\n",
       "      <td>3.990000</td>\n",
       "      <td>595.500000</td>\n",
       "      <td>3924.000000</td>\n",
       "    </tr>\n",
       "    <tr>\n",
       "      <th>75%</th>\n",
       "      <td>801.750000</td>\n",
       "      <td>2010.000000</td>\n",
       "      <td>4.170000</td>\n",
       "      <td>113906.500000</td>\n",
       "      <td>1487.957500</td>\n",
       "      <td>721.180500</td>\n",
       "      <td>6.990000</td>\n",
       "      <td>932.500000</td>\n",
       "      <td>5312.250000</td>\n",
       "    </tr>\n",
       "    <tr>\n",
       "      <th>max</th>\n",
       "      <td>1069.000000</td>\n",
       "      <td>2016.000000</td>\n",
       "      <td>4.770000</td>\n",
       "      <td>206792.000000</td>\n",
       "      <td>47795.000000</td>\n",
       "      <td>28677.000000</td>\n",
       "      <td>33.860000</td>\n",
       "      <td>1273.000000</td>\n",
       "      <td>61560.000000</td>\n",
       "    </tr>\n",
       "  </tbody>\n",
       "</table>\n",
       "</div>"
      ],
      "text/plain": [
       "             index  Publishing Year  Book_average_rating  Book_ratings_count  \\\n",
       "count  1070.000000      1069.000000          1070.000000         1070.000000   \n",
       "mean    534.500000      1971.377923             4.007000        94909.913084   \n",
       "std     309.026698       185.080257             0.247244        31513.242518   \n",
       "min       0.000000      -560.000000             2.970000        27308.000000   \n",
       "25%     267.250000      1985.000000             3.850000        70398.000000   \n",
       "50%     534.500000      2003.000000             4.015000        89309.000000   \n",
       "75%     801.750000      2010.000000             4.170000       113906.500000   \n",
       "max    1069.000000      2016.000000             4.770000       206792.000000   \n",
       "\n",
       "        gross sales  publisher revenue   sale price   sales rank    units sold  \n",
       "count   1070.000000        1070.000000  1070.000000  1070.000000   1070.000000  \n",
       "mean    1856.622944         843.281030     4.869561   611.652336   9676.980374  \n",
       "std     3936.924240        2257.596743     3.559919   369.849830  15370.571306  \n",
       "min      104.940000           0.000000     0.990000     1.000000    106.000000  \n",
       "25%      372.465000           0.000000     1.990000   287.500000    551.250000  \n",
       "50%      809.745000         273.078000     3.990000   595.500000   3924.000000  \n",
       "75%     1487.957500         721.180500     6.990000   932.500000   5312.250000  \n",
       "max    47795.000000       28677.000000    33.860000  1273.000000  61560.000000  "
      ]
     },
     "execution_count": 5,
     "metadata": {},
     "output_type": "execute_result"
    }
   ],
   "source": [
    "df.describe()"
   ]
  },
  {
   "cell_type": "code",
   "execution_count": 6,
   "metadata": {},
   "outputs": [],
   "source": [
    "df = df[df[\"Publishing Year\"] > 1900]"
   ]
  },
  {
   "cell_type": "code",
   "execution_count": 11,
   "metadata": {},
   "outputs": [
    {
     "data": {
      "text/plain": [
       "index                   0\n",
       "Publishing Year         0\n",
       "Book Name               0\n",
       "Author                  0\n",
       "language_code          47\n",
       "Author_Rating           0\n",
       "Book_average_rating     0\n",
       "Book_ratings_count      0\n",
       "genre                   0\n",
       "gross sales             0\n",
       "publisher revenue       0\n",
       "sale price              0\n",
       "sales rank              0\n",
       "Publisher               0\n",
       "units sold              0\n",
       "dtype: int64"
      ]
     },
     "execution_count": 11,
     "metadata": {},
     "output_type": "execute_result"
    }
   ],
   "source": [
    "df.isna().sum()"
   ]
  },
  {
   "cell_type": "code",
   "execution_count": 10,
   "metadata": {},
   "outputs": [],
   "source": [
    "df.dropna(subset= \"Book Name\", inplace=True)"
   ]
  },
  {
   "cell_type": "code",
   "execution_count": 13,
   "metadata": {},
   "outputs": [
    {
     "data": {
      "text/plain": [
       "np.int64(0)"
      ]
     },
     "execution_count": 13,
     "metadata": {},
     "output_type": "execute_result"
    }
   ],
   "source": [
    "df.duplicated().sum()"
   ]
  },
  {
   "cell_type": "code",
   "execution_count": 14,
   "metadata": {},
   "outputs": [
    {
     "data": {
      "text/plain": [
       "index                  988\n",
       "Publishing Year        101\n",
       "Book Name              987\n",
       "Author                 669\n",
       "language_code            8\n",
       "Author_Rating            4\n",
       "Book_average_rating    133\n",
       "Book_ratings_count     983\n",
       "genre                    4\n",
       "gross sales            774\n",
       "publisher revenue      570\n",
       "sale price             143\n",
       "sales rank             818\n",
       "Publisher                9\n",
       "units sold             470\n",
       "dtype: int64"
      ]
     },
     "execution_count": 14,
     "metadata": {},
     "output_type": "execute_result"
    }
   ],
   "source": [
    "df.nunique()"
   ]
  },
  {
   "cell_type": "code",
   "execution_count": 15,
   "metadata": {},
   "outputs": [
    {
     "data": {
      "image/png": "[encoded data removed]",
      "text/plain": [
       "<Figure size 640x480 with 1 Axes>"
      ]
     },
     "metadata": {},
     "output_type": "display_data"
    }
   ],
   "source": [
    "plt.hist(df[\"Publishing Year\"])\n",
    "plt.xlabel(\"Publishing Year\")\n",
    "plt.ylabel(\"Frequency\")\n",
    "plt.title(\"Distribution of Publishing Year\")\n",
    "plt.show()"
   ]
  },
  {
   "cell_type": "code",
   "execution_count": 17,
   "metadata": {},
   "outputs": [
    {
     "data": {
      "image/png": "[encoded data removed]",
      "text/plain": [
       "<Figure size 640x480 with 1 Axes>"
      ]
     },
     "metadata": {},
     "output_type": "display_data"
    }
   ],
   "source": [
    "df[\"genre\"].value_counts().plot(kind=\"bar\")\n",
    "plt.xlabel(\"Genre\")\n",
    "plt.ylabel(\"Number of Books\")\n",
    "plt.title(\"Number of Books in Each Genre\")\n",
    "plt.show()"
   ]
  },
  {
   "cell_type": "code",
   "execution_count": null,
   "metadata": {},
   "outputs": [],
   "source": []
  }
 ],
 "metadata": {
  "kernelspec": {
   "display_name": "myenv",
   "language": "python",
   "name": "python3"
  },
  "language_info": {
   "codemirror_mode": {
    "name": "ipython",
    "version": 3
   },
   "file_extension": ".py",
   "mimetype": "text/x-python",
   "name": "python",
   "nbconvert_exporter": "python",
   "pygments_lexer": "ipython3",
   "version": "3.12.9"
  }
 },
 "nbformat": 4,
 "nbformat_minor": 2
}
